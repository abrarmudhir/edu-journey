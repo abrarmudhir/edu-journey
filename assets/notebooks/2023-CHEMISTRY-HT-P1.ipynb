{
 "cells": [
  {
   "cell_type": "markdown",
   "metadata": {},
   "source": [
    "# GCSE CHEMISTRY Higher Tier Paper 1"
   ]
  },
  {
   "cell_type": "code",
   "execution_count": 1,
   "metadata": {},
   "outputs": [
    {
     "name": "stdout",
     "output_type": "stream",
     "text": [
      "Collecting periodictable\n",
      "  Downloading periodictable-1.7.1.tar.gz (1.0 MB)\n",
      "\u001b[2K     \u001b[38;2;114;156;31m━━━━━━━━━━━━━━━━━━━━━━━━━━━━━━━━━━━━━━━━\u001b[0m \u001b[32m1.0/1.0 MB\u001b[0m \u001b[31m3.7 MB/s\u001b[0m eta \u001b[36m0:00:00\u001b[0mm eta \u001b[36m0:00:01\u001b[0m0:01\u001b[0mm\n",
      "\u001b[?25h  Installing build dependencies ... \u001b[?25ldone\n",
      "\u001b[?25h  Getting requirements to build wheel ... \u001b[?25ldone\n",
      "\u001b[?25h  Preparing metadata (pyproject.toml) ... \u001b[?25ldone\n",
      "\u001b[?25hCollecting pyparsing (from periodictable)\n",
      "  Downloading pyparsing-3.1.4-py3-none-any.whl.metadata (5.1 kB)\n",
      "Requirement already satisfied: numpy in /Users/abrarmudhir/.pyenv/versions/3.12.0/lib/python3.12/site-packages (from periodictable) (2.0.0)\n",
      "Downloading pyparsing-3.1.4-py3-none-any.whl (104 kB)\n",
      "\u001b[2K   \u001b[38;2;114;156;31m━━━━━━━━━━━━━━━━━━━━━━━━━━━━━━━━━━━━━━━━\u001b[0m \u001b[32m104.1/104.1 kB\u001b[0m \u001b[31m3.7 MB/s\u001b[0m eta \u001b[36m0:00:00\u001b[0m\n",
      "\u001b[?25hBuilding wheels for collected packages: periodictable\n",
      "  Building wheel for periodictable (pyproject.toml) ... \u001b[?25ldone\n",
      "\u001b[?25h  Created wheel for periodictable: filename=periodictable-1.7.1-py3-none-any.whl size=752512 sha256=42b541170a943624ede792b30b81c3dfc59d25fa7c45769c5ac9efa789bc59b1\n",
      "  Stored in directory: /Users/abrarmudhir/Library/Caches/pip/wheels/4f/94/e5/f8240ffdf54ce73b9e00aa7cd66bfee4814211b5a2b0f27213\n",
      "Successfully built periodictable\n",
      "Installing collected packages: pyparsing, periodictable\n",
      "Successfully installed periodictable-1.7.1 pyparsing-3.1.4\n",
      "\n",
      "\u001b[1m[\u001b[0m\u001b[34;49mnotice\u001b[0m\u001b[1;39;49m]\u001b[0m\u001b[39;49m A new release of pip is available: \u001b[0m\u001b[31;49m24.1.1\u001b[0m\u001b[39;49m -> \u001b[0m\u001b[32;49m24.2\u001b[0m\n",
      "\u001b[1m[\u001b[0m\u001b[34;49mnotice\u001b[0m\u001b[1;39;49m]\u001b[0m\u001b[39;49m To update, run: \u001b[0m\u001b[32;49mpip install --upgrade pip\u001b[0m\n"
     ]
    }
   ],
   "source": [
    "!pip install periodictable"
   ]
  },
  {
   "cell_type": "code",
   "execution_count": 2,
   "metadata": {},
   "outputs": [
    {
     "name": "stdout",
     "output_type": "stream",
     "text": [
      "Name: hydrogen, Symbol: H, Atomic Number: 1\n"
     ]
    }
   ],
   "source": [
    "import periodictable\n",
    "\n",
    "# Access an element\n",
    "hydrogen = periodictable.H\n",
    "\n",
    "# Print properties\n",
    "print(f\"Name: {hydrogen.name}, Symbol: {hydrogen.symbol}, Atomic Number: {hydrogen.number}\")\n"
   ]
  },
  {
   "cell_type": "code",
   "execution_count": null,
   "metadata": {},
   "outputs": [],
   "source": []
  }
 ],
 "metadata": {
  "kernelspec": {
   "display_name": "Python 3",
   "language": "python",
   "name": "python3"
  },
  "language_info": {
   "codemirror_mode": {
    "name": "ipython",
    "version": 3
   },
   "file_extension": ".py",
   "mimetype": "text/x-python",
   "name": "python",
   "nbconvert_exporter": "python",
   "pygments_lexer": "ipython3",
   "version": "3.12.0"
  }
 },
 "nbformat": 4,
 "nbformat_minor": 2
}
