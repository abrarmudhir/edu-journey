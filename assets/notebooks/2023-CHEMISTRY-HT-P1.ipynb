{
 "cells": [
  {
   "cell_type": "markdown",
   "metadata": {},
   "source": [
    "# GCSE CHEMISTRY Higher Tier Paper 1"
   ]
  },
  {
   "cell_type": "code",
   "execution_count": 5,
   "metadata": {},
   "outputs": [
    {
     "name": "stdout",
     "output_type": "stream",
     "text": [
      "Requirement already satisfied: periodictable in /Users/abrarmudhir/.pyenv/versions/3.12.0/lib/python3.12/site-packages (1.7.1)\n",
      "Requirement already satisfied: pyparsing in /Users/abrarmudhir/.pyenv/versions/3.12.0/lib/python3.12/site-packages (from periodictable) (3.1.4)\n",
      "Requirement already satisfied: numpy in /Users/abrarmudhir/.pyenv/versions/3.12.0/lib/python3.12/site-packages (from periodictable) (2.0.0)\n",
      "\n",
      "\u001b[1m[\u001b[0m\u001b[34;49mnotice\u001b[0m\u001b[1;39;49m]\u001b[0m\u001b[39;49m A new release of pip is available: \u001b[0m\u001b[31;49m24.1.1\u001b[0m\u001b[39;49m -> \u001b[0m\u001b[32;49m24.2\u001b[0m\n",
      "\u001b[1m[\u001b[0m\u001b[34;49mnotice\u001b[0m\u001b[1;39;49m]\u001b[0m\u001b[39;49m To update, run: \u001b[0m\u001b[32;49mpip install --upgrade pip\u001b[0m\n",
      "Requirement already satisfied: matplotlib in /Users/abrarmudhir/.pyenv/versions/3.12.0/lib/python3.12/site-packages (3.9.2)\n",
      "Requirement already satisfied: contourpy>=1.0.1 in /Users/abrarmudhir/.pyenv/versions/3.12.0/lib/python3.12/site-packages (from matplotlib) (1.3.0)\n",
      "Requirement already satisfied: cycler>=0.10 in /Users/abrarmudhir/.pyenv/versions/3.12.0/lib/python3.12/site-packages (from matplotlib) (0.12.1)\n",
      "Requirement already satisfied: fonttools>=4.22.0 in /Users/abrarmudhir/.pyenv/versions/3.12.0/lib/python3.12/site-packages (from matplotlib) (4.53.1)\n",
      "Requirement already satisfied: kiwisolver>=1.3.1 in /Users/abrarmudhir/.pyenv/versions/3.12.0/lib/python3.12/site-packages (from matplotlib) (1.4.6)\n",
      "Requirement already satisfied: numpy>=1.23 in /Users/abrarmudhir/.pyenv/versions/3.12.0/lib/python3.12/site-packages (from matplotlib) (2.0.0)\n",
      "Requirement already satisfied: packaging>=20.0 in /Users/abrarmudhir/.pyenv/versions/3.12.0/lib/python3.12/site-packages (from matplotlib) (24.1)\n",
      "Requirement already satisfied: pillow>=8 in /Users/abrarmudhir/.pyenv/versions/3.12.0/lib/python3.12/site-packages (from matplotlib) (10.4.0)\n",
      "Requirement already satisfied: pyparsing>=2.3.1 in /Users/abrarmudhir/.pyenv/versions/3.12.0/lib/python3.12/site-packages (from matplotlib) (3.1.4)\n",
      "Requirement already satisfied: python-dateutil>=2.7 in /Users/abrarmudhir/.pyenv/versions/3.12.0/lib/python3.12/site-packages (from matplotlib) (2.9.0.post0)\n",
      "Requirement already satisfied: six>=1.5 in /Users/abrarmudhir/.pyenv/versions/3.12.0/lib/python3.12/site-packages (from python-dateutil>=2.7->matplotlib) (1.16.0)\n",
      "\n",
      "\u001b[1m[\u001b[0m\u001b[34;49mnotice\u001b[0m\u001b[1;39;49m]\u001b[0m\u001b[39;49m A new release of pip is available: \u001b[0m\u001b[31;49m24.1.1\u001b[0m\u001b[39;49m -> \u001b[0m\u001b[32;49m24.2\u001b[0m\n",
      "\u001b[1m[\u001b[0m\u001b[34;49mnotice\u001b[0m\u001b[1;39;49m]\u001b[0m\u001b[39;49m To update, run: \u001b[0m\u001b[32;49mpip install --upgrade pip\u001b[0m\n"
     ]
    }
   ],
   "source": [
    "!pip install periodictable\n",
    "!pip install matplotlib"
   ]
  },
  {
   "cell_type": "code",
   "execution_count": 6,
   "metadata": {},
   "outputs": [
    {
     "name": "stdout",
     "output_type": "stream",
     "text": [
      "Name: hydrogen, Symbol: H, Atomic Number: 1\n"
     ]
    }
   ],
   "source": [
    "import periodictable\n",
    "\n",
    "# Access an element\n",
    "hydrogen = periodictable.H\n",
    "\n",
    "# Print properties\n",
    "print(f\"Name: {hydrogen.name}, Symbol: {hydrogen.symbol}, Atomic Number: {hydrogen.number}\")\n"
   ]
  },
  {
   "cell_type": "code",
   "execution_count": 9,
   "metadata": {},
   "outputs": [
    {
     "name": "stdout",
     "output_type": "stream",
     "text": [
      "Name: sodium, Symbol: Na, Atomic Number: 11\n"
     ]
    }
   ],
   "source": [
    "import periodictable\n",
    "\n",
    "# Access an element\n",
    "sodium = periodictable.Na\n",
    "\n",
    "# Print properties\n",
    "print(f\"Name: {sodium.name}, Symbol: {sodium.symbol}, Atomic Number: {sodium.number}\")\n",
    "\n"
   ]
  },
  {
   "cell_type": "markdown",
   "metadata": {},
   "source": [
    "Draw a dot and cross diagram for a molecule of hydrogen chloride (HCl).\n",
    "Show the outer shell electrons only."
   ]
  },
  {
   "cell_type": "code",
   "execution_count": 4,
   "metadata": {},
   "outputs": [
    {
     "name": "stderr",
     "output_type": "stream",
     "text": [
      "Matplotlib is building the font cache; this may take a moment.\n"
     ]
    },
    {
     "data": {
      "image/png": "[encoded data removed]",
      "text/plain": [
       "<Figure size 640x480 with 1 Axes>"
      ]
     },
     "metadata": {},
     "output_type": "display_data"
    }
   ],
   "source": [
    "import matplotlib.pyplot as plt\n",
    "\n",
    "# Create a figure and axis\n",
    "fig, ax = plt.subplots()\n",
    "\n",
    "# Set axis limits and hide axes\n",
    "ax.set_xlim(0, 10)\n",
    "ax.set_ylim(0, 10)\n",
    "ax.axis('off')\n",
    "\n",
    "# Draw the chlorine atom with 7 valence electrons (crosses)\n",
    "chlorine_position = (6, 5)\n",
    "for i in range(7):\n",
    "    x = chlorine_position[0] + 1.2 * (i % 2)  # Spread out electrons horizontally\n",
    "    y = chlorine_position[1] + 1.2 * (i // 2) # Spread out electrons vertically\n",
    "    ax.text(x, y, 'x', fontsize=20, ha='center', va='center')\n",
    "\n",
    "# Draw the hydrogen atom with 1 valence electron (dot)\n",
    "hydrogen_position = (3, 5)\n",
    "ax.text(hydrogen_position[0], hydrogen_position[1], '•', fontsize=20, ha='center', va='center')\n",
    "\n",
    "# Draw the bond between H and Cl (shared pair of electrons)\n",
    "ax.plot([hydrogen_position[0], chlorine_position[0]], [hydrogen_position[1], chlorine_position[1]], 'k-', lw=1)\n",
    "\n",
    "# Annotate atoms\n",
    "ax.text(hydrogen_position[0], hydrogen_position[1] + 0.5, 'H', fontsize=20, ha='center')\n",
    "ax.text(chlorine_position[0], chlorine_position[1] + 0.5, 'Cl', fontsize=20, ha='center')\n",
    "\n",
    "plt.show()\n"
   ]
  },
  {
   "cell_type": "code",
   "execution_count": null,
   "metadata": {},
   "outputs": [],
   "source": []
  }
 ],
 "metadata": {
  "kernelspec": {
   "display_name": "Python 3",
   "language": "python",
   "name": "python3"
  },
  "language_info": {
   "codemirror_mode": {
    "name": "ipython",
    "version": 3
   },
   "file_extension": ".py",
   "mimetype": "text/x-python",
   "name": "python",
   "nbconvert_exporter": "python",
   "pygments_lexer": "ipython3",
   "version": "3.12.0"
  }
 },
 "nbformat": 4,
 "nbformat_minor": 2
}
